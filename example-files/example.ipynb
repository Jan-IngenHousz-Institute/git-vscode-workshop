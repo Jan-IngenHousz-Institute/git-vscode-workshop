{
 "cells": [
  {
   "cell_type": "markdown",
   "id": "intro-markdown",
   "metadata": {},
   "source": [
    "# Testing LSP Features in Python Notebook\n",
    "This notebook includes examples of functions with type annotations, recursion, and a class with error handling. It’s a great way to see autocompletion, signature help, and inline documentation in action."
   ]
  },
  {
   "cell_type": "code",
   "execution_count": 1,
   "id": "fibonacci-factorial",
   "metadata": {},
   "outputs": [
    {
     "name": "stdout",
     "output_type": "stream",
     "text": [
      "Fibonacci (10 numbers): [0, 1, 1, 2, 3, 5, 8, 13, 21, 34]\n",
      "Factorial of 5: 120\n"
     ]
    }
   ],
   "source": [
    "def fibonacci(n: int) -> list:\n",
    "    \"\"\"Generate a Fibonacci sequence with n elements.\"\"\"\n",
    "    if n <= 0:\n",
    "        return []\n",
    "    if n == 1:\n",
    "        return [0]\n",
    "    seq = [0, 1]\n",
    "    while len(seq) < n:\n",
    "        seq.append(seq[-1] + seq[-2])\n",
    "    return seq\n",
    "\n",
    "def factorial(n: int) -> int:\n",
    "    \"\"\"Compute factorial of n recursively.\"\"\"\n",
    "    if n < 0:\n",
    "        raise ValueError('Negative input not allowed.')\n",
    "    if n == 0:\n",
    "        return 1\n",
    "    return n * factorial(n - 1)\n",
    "\n",
    "print('Fibonacci (10 numbers):', fibonacci(10))\n",
    "print('Factorial of 5:', factorial(5))"
   ]
  },
  {
   "cell_type": "code",
   "execution_count": 2,
   "id": "calculator-class",
   "metadata": {},
   "outputs": [
    {
     "name": "stdout",
     "output_type": "stream",
     "text": [
      "Error: Division by zero\n",
      "Final calculator value: 44.0\n"
     ]
    }
   ],
   "source": [
    "class Calculator:\n",
    "    \"\"\"A simple calculator to demonstrate LSP features in classes.\"\"\"\n",
    "    def __init__(self, initial_value: float = 0.0):\n",
    "        self.value = initial_value\n",
    "\n",
    "    def add(self, amount: float) -> None:\n",
    "        self.value += amount\n",
    "\n",
    "    def subtract(self, amount: float) -> None:\n",
    "        self.value -= amount\n",
    "\n",
    "    def multiply(self, factor: float) -> None:\n",
    "        self.value *= factor\n",
    "\n",
    "    def divide(self, divisor: float) -> None:\n",
    "        if divisor == 0:\n",
    "            raise ValueError('Division by zero')\n",
    "        self.value /= divisor\n",
    "\n",
    "    def get_value(self) -> float:\n",
    "        return self.value\n",
    "\n",
    "# Testing the Calculator class\n",
    "calc = Calculator(20)\n",
    "calc.add(5)\n",
    "calc.subtract(3)\n",
    "calc.multiply(4)\n",
    "try:\n",
    "    calc.divide(0)\n",
    "except ValueError as e:\n",
    "    print('Error:', e)\n",
    "calc.divide(2)\n",
    "print('Final calculator value:', calc.get_value())"
   ]
  }
 ],
 "metadata": {
  "kernelspec": {
   "display_name": "3.11.11",
   "language": "python",
   "name": "python3"
  },
  "language_info": {
   "codemirror_mode": {
    "name": "ipython",
    "version": 3
   },
   "file_extension": ".py",
   "mimetype": "text/x-python",
   "name": "python",
   "nbconvert_exporter": "python",
   "pygments_lexer": "ipython3",
   "version": "3.11.11"
  }
 },
 "nbformat": 4,
 "nbformat_minor": 5
}
